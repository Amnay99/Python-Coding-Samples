{
 "cells": [
  {
   "cell_type": "code",
   "execution_count": 11,
   "metadata": {},
   "outputs": [
    {
     "name": "stdout",
     "output_type": "stream",
     "text": [
      "[ 1.31794430e+06  5.63347711e+01 -2.44796767e+03  1.18182428e-01\n",
      "  9.23985355e-03]\n",
      "0.11818242847900584\n",
      "0.009239853552006166\n"
     ]
    }
   ],
   "source": [
    "#All of Problem 1 until futher notice\n",
    "import numpy as np\n",
    "R=8.314\n",
    "Tc=369.8\n",
    "Pc=4.246\n",
    "omega=.152\n",
    "T=220\n",
    "P=.3       \n",
    "_substance = np.array([369.8,4.246,.152])\n",
    "\n",
    "\n",
    "def PR_param(P,T,substance):\n",
    "    R = 8.314        \n",
    "    Tc = substance[0]    \n",
    "    Pc = substance[1]    \n",
    "    omega = substance[2]   \n",
    "    _substance = np.array([369.8,4.246,.152])\n",
    "# calculate a and b    \n",
    "    b = 0.0778*R*Tc/Pc    \n",
    "    kappa = 0.37464 + 1.54226*omega - 0.26992*omega**2    \n",
    "    alpha = (1+kappa*(1-np.sqrt(T/Tc)))**2    \n",
    "    a = 0.45724* (R*Tc)**2 *alpha/Pc    \n",
    "    dadt = -(0.45724*(R*Tc)**2 *kappa/Pc)*np.sqrt(alpha/(T*Tc))    \n",
    "    #calculate A and B    \n",
    "    A = a*P/(R*T)**2    \n",
    "    B = b*P/(R*T)    \n",
    "    param = np.array([a, b, dadt, A, B])    \n",
    "    return param\n",
    "print(param)\n",
    "print(A)\n",
    "print(B)\n",
    "\n",
    "\n"
   ]
  },
  {
   "cell_type": "code",
   "execution_count": 52,
   "metadata": {},
   "outputs": [],
   "source": [
    "def PR_Z(A,B):    \n",
    "#PR_Z outputs sorted real roots of cubic PR EOS    \n",
    "    c0 = 1    \n",
    "    c1 = -(1-B)    \n",
    "    c2 = A - 3*B*B - 2*B    \n",
    "    c3 = -(A*B - B*B - B*B*B)    \n",
    "    coeff = np.array([c0, c1, c2, c3])    \n",
    "    Z = cubic_roots(coeff)    \n",
    "    return Z\n",
    "#couldn't get Z roots to come out so look at next block please"
   ]
  },
  {
   "cell_type": "code",
   "execution_count": 53,
   "metadata": {},
   "outputs": [
    {
     "name": "stdout",
     "output_type": "stream",
     "text": [
      "[ 1.         -0.99076015  0.0994466  -0.00100582]\n"
     ]
    }
   ],
   "source": [
    "A=0.11818242847900584\n",
    "B=0.009239853552006166\n",
    "\n",
    "c0 = 1    \n",
    "c1 = -(1-B)    \n",
    "c2 = A - 3*B*B - 2*B    \n",
    "c3 = -(A*B - B*B - B*B*B)    \n",
    "coeff = np.array([c0, c1, c2, c3])    \n",
    "\n",
    "print(coeff)\n",
    "\n",
    "#Plugged the values into this equation, Z**3+Z**2*c1+Z*c2+c3, in a calculator to get the Z values\n",
    "# Z values=0.01139,0.10045,0.87891\n",
    "#throw out the middle root which is Z=.10045\n",
    "#Zvap=.87891\n",
    "#Zliq=.01139"
   ]
  },
  {
   "cell_type": "code",
   "execution_count": null,
   "metadata": {},
   "outputs": [],
   "source": []
  },
  {
   "cell_type": "code",
   "execution_count": 58,
   "metadata": {},
   "outputs": [],
   "source": [
    "Zvap=.87891\n",
    "A=0.11818242847900584\n",
    "B=0.009239853552006166\n",
    "\n",
    "def PR_log_phi(A,B,Zvap):\n",
    "    s2 = np.sqrt(2)    \n",
    "    log_phi = (Zvap-1) - np.log(Zvap-B) - (A/(2*s2*B))*np.log((Zvap + (1 +s2)*B)/(Zvap + (1 -s2)*B))    \n",
    "    return log_phi \n",
    "\n",
    "    \n",
    "   \n"
   ]
  },
  {
   "cell_type": "code",
   "execution_count": 61,
   "metadata": {},
   "outputs": [
    {
     "name": "stdout",
     "output_type": "stream",
     "text": [
      "-0.11452418633689448\n"
     ]
    }
   ],
   "source": [
    "#Fugacity of Vapor\n",
    "Zvap=.87891\n",
    "A=0.11818242847900584\n",
    "B=0.009239853552006166\n",
    "\n",
    "s2 = np.sqrt(2)    \n",
    "log_phi = (Zvap-1) - np.log(Zvap-B) - (A/(2*s2*B))*np.log((Zvap + (1 +s2)*B)/(Zvap + (1 -s2)*B))\n",
    "print(log_phi)\n"
   ]
  },
  {
   "cell_type": "code",
   "execution_count": 62,
   "metadata": {},
   "outputs": [
    {
     "name": "stdout",
     "output_type": "stream",
     "text": [
      "-1.6032469311097604\n"
     ]
    }
   ],
   "source": [
    "#Fugacity of Liquid\n",
    "Zliq=.01139\n",
    "A=0.11818242847900584\n",
    "B=0.009239853552006166\n",
    "\n",
    "s2 = np.sqrt(2)    \n",
    "log_phi = (Zliq-1) - np.log(Zliq-B) - (A/(2*s2*B))*np.log((Zliq + (1 +s2)*B)/(Zliq + (1 -s2)*B))\n",
    "print(log_phi)"
   ]
  },
  {
   "cell_type": "code",
   "execution_count": 63,
   "metadata": {},
   "outputs": [],
   "source": [
    "#Since the fugacity(Zliq)<fugacity(Zvap), one needs to use \n",
    "#the Zliq for further calculations since it is in the liquid phase \n"
   ]
  },
  {
   "cell_type": "code",
   "execution_count": 68,
   "metadata": {},
   "outputs": [
    {
     "name": "stdout",
     "output_type": "stream",
     "text": [
      "-19217.278613783074\n"
     ]
    }
   ],
   "source": [
    "#Enthalpy Departure Function using Zliq\n",
    "R=8.314\n",
    "a=1.31794430e+06    \n",
    "b=5.63347711e+01\n",
    "dadt=-2.44796767e+03\n",
    "A=0.11818242847900584\n",
    "B=0.009239853552006166\n",
    "Z=.01139      \n",
    "s2 = np.sqrt(2)    \n",
    "H = R*T*(Z-1) + ((T*dadt - a)/(2*s2*b))*np.log((Z + (1+s2)*B)/(Z + (1-s2)*B))  \n",
    "print(H)\n"
   ]
  },
  {
   "cell_type": "code",
   "execution_count": 69,
   "metadata": {},
   "outputs": [
    {
     "name": "stdout",
     "output_type": "stream",
     "text": [
      "-74.02187155116161\n"
     ]
    }
   ],
   "source": [
    "#Entropy Departure Function using Zliq    \n",
    "R = 8.314    \n",
    "a=1.31794430e+06    \n",
    "b=5.63347711e+01\n",
    "dadt=-2.44796767e+03\n",
    "A=0.11818242847900584\n",
    "B=0.009239853552006166\n",
    "Z=.01139 \n",
    "s2 = np.sqrt(2)    \n",
    "S = R*np.log(Z-B)+ (dadt/(2*s2*b))*np.log((Z +(1 +s2)*B)/(Z +(1 -s2)*B))    \n",
    "print(S)"
   ]
  },
  {
   "cell_type": "code",
   "execution_count": 71,
   "metadata": {},
   "outputs": [
    {
     "name": "stdout",
     "output_type": "stream",
     "text": [
      "6.944407066666667e-05\n"
     ]
    }
   ],
   "source": [
    "#Molar Volume using Zliq\n",
    "Z=.01139\n",
    "R = 8.314\n",
    "T=220\n",
    "P=300000 #P is in Pa\n",
    "\n",
    "V = (Z*R*T)/(P)\n",
    "print(V)\n"
   ]
  },
  {
   "cell_type": "code",
   "execution_count": 72,
   "metadata": {},
   "outputs": [],
   "source": [
    "#Results Section\n",
    "#Z=Z=.01139 for the liquid\n",
    "#H departure=-19217.278613783074 Joules/mol\n",
    "#S Departure=-74.02187155116161 Joules/mol*k\n",
    "#Molar Volume=6.944407066666667e-05 m^3/mol"
   ]
  },
  {
   "cell_type": "code",
   "execution_count": 75,
   "metadata": {},
   "outputs": [],
   "source": [
    "#Problem 2 for T=220\n",
    "def pengv(Tc,Pc,omega,T):\n",
    "    \n",
    "    Tc=369.8\n",
    "    Pc=4.246\n",
    "    omega=.152\n",
    "    T=220\n",
    "\n",
    "    \n",
    "    \n",
    "    return Vapor_Pressure\n",
    "#function did not work so tried to use other method"
   ]
  },
  {
   "cell_type": "code",
   "execution_count": 97,
   "metadata": {},
   "outputs": [
    {
     "name": "stdout",
     "output_type": "stream",
     "text": [
      "[ 1.31794430e+06  5.63347711e+01 -2.44796767e+03  1.18182428e-01\n",
      "  9.23985355e-03]\n",
      "1.6544593889214656\n",
      "0.1293505531074632\n",
      "1317944.3\n",
      "56.3347711\n"
     ]
    }
   ],
   "source": [
    "import numpy as np\n",
    "R=8.314\n",
    "Tc=369.8\n",
    "Pc=4.246\n",
    "omega=.152\n",
    "T=220\n",
    "P=4.199759847391992 #P is in Mpa     \n",
    "_substance = np.array([369.8,4.246,.152])\n",
    "\n",
    "\n",
    "def PR_param(P,T,substance):\n",
    "    R = 8.314        \n",
    "    Tc = substance[0]    \n",
    "    Pc = substance[1]    \n",
    "    omega = substance[2]   \n",
    "    _substance = np.array([369.8,4.246,.152])\n",
    "# calculate a and b    \n",
    "    b = 0.0778*R*Tc/Pc    \n",
    "    kappa = 0.37464 + 1.54226*omega - 0.26992*omega**2    \n",
    "    alpha = (1+kappa*(1-np.sqrt(T/Tc)))**2    \n",
    "    a = 0.45724* (R*Tc)**2 *alpha/Pc    \n",
    "    dadt = -(0.45724*(R*Tc)**2 *kappa/Pc)*np.sqrt(alpha/(T*Tc))    \n",
    "    #calculate A and B    \n",
    "    A = a*P/(R*T)**2    \n",
    "    B = b*P/(R*T)    \n",
    "    param = np.array([a, b, dadt, A, B])    \n",
    "    return param\n",
    "print(param)\n",
    "print(A)\n",
    "print(B)\n",
    "print(a)\n",
    "print(b)"
   ]
  },
  {
   "cell_type": "code",
   "execution_count": 99,
   "metadata": {},
   "outputs": [
    {
     "name": "stdout",
     "output_type": "stream",
     "text": [
      "[ 1.         -0.87064945  1.34556359 -0.19510943]\n"
     ]
    }
   ],
   "source": [
    "#To get the roots\n",
    "A=1.6544593889214656\n",
    "B=0.1293505531074632\n",
    "c0 = 1    \n",
    "c1 = -(1-B)    \n",
    "c2 = A - 3*B*B - 2*B    \n",
    "c3 = -(A*B - B*B - B*B*B)    \n",
    "coeff = np.array([c0, c1, c2, c3])    \n",
    "\n",
    "print(coeff)\n",
    "#Plugged the values into this equation, Z**3+Z**2*c1+Z*c2+c3, in a calculator to get the Z values\n",
    "# Z value=0.158263\n",
    "\n",
    "#Vapor Pressure is=Pvap=4.199759847391992 Mpa"
   ]
  },
  {
   "cell_type": "code",
   "execution_count": 13,
   "metadata": {},
   "outputs": [
    {
     "name": "stdout",
     "output_type": "stream",
     "text": [
      "[ 1.27048491e+06  5.63347711e+01 -2.30116429e+03  1.34014393e+00\n",
      "  1.18571340e-01]\n",
      "1.3401439349707391\n",
      "0.11857134038290987\n"
     ]
    }
   ],
   "source": [
    "#Problem 2, Temp=240K\n",
    "import numpy as np\n",
    "R=8.314\n",
    "Tc=369.8\n",
    "Pc=4.246\n",
    "omega=.152\n",
    "T=240\n",
    "P=4.199759847391992      \n",
    "_substance = np.array([369.8,4.246,.152])\n",
    "\n",
    "\n",
    "def PR_param(P,T,substance):\n",
    "    R = 8.314        \n",
    "    Tc = substance[0]    \n",
    "    Pc = substance[1]    \n",
    "    omega = substance[2]   \n",
    "    _substance = np.array([369.8,4.246,.152])\n",
    "# calculate a and b    \n",
    "    b = 0.0778*R*Tc/Pc    \n",
    "    kappa = 0.37464 + 1.54226*omega - 0.26992*omega**2    \n",
    "    alpha = (1+kappa*(1-np.sqrt(T/Tc)))**2    \n",
    "    a = 0.45724* (R*Tc)**2 *alpha/Pc    \n",
    "    dadt = -(0.45724*(R*Tc)**2 *kappa/Pc)*np.sqrt(alpha/(T*Tc))    \n",
    "    #calculate A and B    \n",
    "    A = a*P/(R*T)**2    \n",
    "    B = b*P/(R*T)    \n",
    "    param = np.array([a, b, dadt, A, B])    \n",
    "    return param\n",
    "print(param)\n",
    "print(A)\n",
    "print(B)\n",
    "\n",
    "\n",
    "\n",
    "\n"
   ]
  },
  {
   "cell_type": "code",
   "execution_count": 14,
   "metadata": {},
   "outputs": [
    {
     "name": "stdout",
     "output_type": "stream",
     "text": [
      "[ 1.         -0.88142866  1.06082377 -0.14317649]\n"
     ]
    }
   ],
   "source": [
    "#To get the roots\n",
    "A=1.3401439349707391\n",
    "B=0.11857134038290987\n",
    "c0 = 1    \n",
    "c1 = -(1-B)    \n",
    "c2 = A - 3*B*B - 2*B    \n",
    "c3 = -(A*B - B*B - B*B*B)    \n",
    "coeff = np.array([c0, c1, c2, c3])    \n",
    "\n",
    "print(coeff)\n",
    "#Plugged the values into this equation, Z**3+Z**2*c1+Z*c2+c3, in a calculator to get the Z values\n",
    "# Z value=0.150591\n",
    "\n",
    "#Vapor Pressure is=Pvap=4.199759847391992 Mpa"
   ]
  },
  {
   "cell_type": "code",
   "execution_count": 16,
   "metadata": {},
   "outputs": [
    {
     "name": "stdout",
     "output_type": "stream",
     "text": [
      "[ 1.22578275e+06  5.63347711e+01 -2.17164368e+03  1.10171998e+00\n",
      "  1.09450468e-01]\n",
      "1.1017199789872574\n",
      "0.10945046804576297\n"
     ]
    }
   ],
   "source": [
    "#Problem 2, Temp=260K\n",
    "import numpy as np\n",
    "R=8.314\n",
    "Tc=369.8\n",
    "Pc=4.246\n",
    "omega=.152\n",
    "T=260\n",
    "P=4.199759847391992      \n",
    "_substance = np.array([369.8,4.246,.152])\n",
    "\n",
    "\n",
    "def PR_param(P,T,substance):\n",
    "    R = 8.314        \n",
    "    Tc = substance[0]    \n",
    "    Pc = substance[1]    \n",
    "    omega = substance[2]   \n",
    "    _substance = np.array([369.8,4.246,.152])\n",
    "# calculate a and b    \n",
    "    b = 0.0778*R*Tc/Pc    \n",
    "    kappa = 0.37464 + 1.54226*omega - 0.26992*omega**2    \n",
    "    alpha = (1+kappa*(1-np.sqrt(T/Tc)))**2    \n",
    "    a = 0.45724* (R*Tc)**2 *alpha/Pc    \n",
    "    dadt = -(0.45724*(R*Tc)**2 *kappa/Pc)*np.sqrt(alpha/(T*Tc))    \n",
    "    #calculate A and B    \n",
    "    A = a*P/(R*T)**2    \n",
    "    B = b*P/(R*T)    \n",
    "    param = np.array([a, b, dadt, A, B])    \n",
    "    return param\n",
    "print(param)\n",
    "print(A)\n",
    "print(B)\n",
    "\n",
    "\n",
    "     \n",
    "\n"
   ]
  },
  {
   "cell_type": "code",
   "execution_count": 18,
   "metadata": {},
   "outputs": [
    {
     "name": "stdout",
     "output_type": "stream",
     "text": [
      "[ 1.         -0.89054953  0.84688083 -0.10729321]\n"
     ]
    }
   ],
   "source": [
    "#To get the roots\n",
    "A=1.1017199789872574\n",
    "B=0.10945046804576297\n",
    "c0 = 1    \n",
    "c1 = -(1-B)    \n",
    "c2 = A - 3*B*B - 2*B    \n",
    "c3 = -(A*B - B*B - B*B*B)    \n",
    "coeff = np.array([c0, c1, c2, c3])    \n",
    "\n",
    "print(coeff)\n",
    "#Plugged the values into this equation, Z**3+Z**2*c1+Z*c2+c3, in a calculator to get the Z values\n",
    "# Z value=0.145262\n",
    "\n",
    "#Vapor Pressure is=Pvap=4.199759847391992 Mpa\n"
   ]
  },
  {
   "cell_type": "code",
   "execution_count": 3,
   "metadata": {},
   "outputs": [
    {
     "name": "stdout",
     "output_type": "stream",
     "text": [
      "[ 1.18352508e+06  5.63347711e+01 -2.05626085e+03  9.17203743e-01\n",
      "  1.01632577e-01]\n",
      "0.9172037426049017\n",
      "0.1016325774710656\n"
     ]
    }
   ],
   "source": [
    "#Problem 2, Temp=280K\n",
    "import numpy as np\n",
    "R=8.314\n",
    "Tc=369.8\n",
    "Pc=4.246\n",
    "omega=.152\n",
    "T=280\n",
    "P=4.199759847391992      \n",
    "_substance = np.array([369.8,4.246,.152])\n",
    "\n",
    "\n",
    "def PR_param(P,T,substance):\n",
    "    R = 8.314        \n",
    "    Tc = substance[0]    \n",
    "    Pc = substance[1]    \n",
    "    omega = substance[2]   \n",
    "    _substance = np.array([369.8,4.246,.152])\n",
    "# calculate a and b    \n",
    "    b = 0.0778*R*Tc/Pc    \n",
    "    kappa = 0.37464 + 1.54226*omega - 0.26992*omega**2    \n",
    "    alpha = (1+kappa*(1-np.sqrt(T/Tc)))**2    \n",
    "    a = 0.45724* (R*Tc)**2 *alpha/Pc    \n",
    "    dadt = -(0.45724*(R*Tc)**2 *kappa/Pc)*np.sqrt(alpha/(T*Tc))    \n",
    "    #calculate A and B    \n",
    "    A = a*P/(R*T)**2    \n",
    "    B = b*P/(R*T)    \n",
    "    param = np.array([a, b, dadt, A, B])    \n",
    "    return param\n",
    "print(param)\n",
    "print(A)\n",
    "print(B)\n",
    "\n",
    "\n"
   ]
  },
  {
   "cell_type": "code",
   "execution_count": 4,
   "metadata": {},
   "outputs": [
    {
     "name": "stdout",
     "output_type": "stream",
     "text": [
      "[ 1.         -0.89836742  0.68295105 -0.08183882]\n"
     ]
    }
   ],
   "source": [
    "#To get the roots\n",
    "A=0.9172037426049017\n",
    "B=0.1016325774710656\n",
    "c0 = 1    \n",
    "c1 = -(1-B)    \n",
    "c2 = A - 3*B*B - 2*B    \n",
    "c3 = -(A*B - B*B - B*B*B)    \n",
    "coeff = np.array([c0, c1, c2, c3])    \n",
    "\n",
    "print(coeff)\n",
    "#Plugged the values into this equation, Z**3+Z**2*c1+Z*c2+c3, in a calculator to get the Z values\n",
    "# Z value=0.142228\n",
    "\n",
    "#Vapor Pressure is=Pvap=4.199759847391992 Mpa\n",
    "\n"
   ]
  },
  {
   "cell_type": "code",
   "execution_count": 6,
   "metadata": {},
   "outputs": [
    {
     "name": "stdout",
     "output_type": "stream",
     "text": [
      "[ 1.14345416e+06  5.63347711e+01 -1.95261780e+03  7.71934885e-01\n",
      "  9.48570723e-02]\n",
      "0.7719348851267829\n",
      "0.09485707230632791\n"
     ]
    }
   ],
   "source": [
    "#Problem 2, Temp=300K\n",
    "import numpy as np\n",
    "R=8.314\n",
    "Tc=369.8\n",
    "Pc=4.246\n",
    "omega=.152\n",
    "T=300\n",
    "P=4.199759847391992      \n",
    "_substance = np.array([369.8,4.246,.152])\n",
    "\n",
    "\n",
    "def PR_param(P,T,substance):\n",
    "    R = 8.314        \n",
    "    Tc = substance[0]    \n",
    "    Pc = substance[1]    \n",
    "    omega = substance[2]   \n",
    "    _substance = np.array([369.8,4.246,.152])\n",
    "# calculate a and b    \n",
    "    b = 0.0778*R*Tc/Pc    \n",
    "    kappa = 0.37464 + 1.54226*omega - 0.26992*omega**2    \n",
    "    alpha = (1+kappa*(1-np.sqrt(T/Tc)))**2    \n",
    "    a = 0.45724* (R*Tc)**2 *alpha/Pc    \n",
    "    dadt = -(0.45724*(R*Tc)**2 *kappa/Pc)*np.sqrt(alpha/(T*Tc))    \n",
    "    #calculate A and B    \n",
    "    A = a*P/(R*T)**2    \n",
    "    B = b*P/(R*T)    \n",
    "    param = np.array([a, b, dadt, A, B])    \n",
    "    return param\n",
    "print(param)\n",
    "print(A)\n",
    "print(B)\n",
    "\n"
   ]
  },
  {
   "cell_type": "code",
   "execution_count": 7,
   "metadata": {},
   "outputs": [
    {
     "name": "stdout",
     "output_type": "stream",
     "text": [
      "[ 1.         -0.90514293  0.55522715 -0.06337211]\n"
     ]
    }
   ],
   "source": [
    "#To get the roots\n",
    "A=0.7719348851267829\n",
    "B=0.09485707230632791\n",
    "c0 = 1    \n",
    "c1 = -(1-B)    \n",
    "c2 = A - 3*B*B - 2*B    \n",
    "c3 = -(A*B - B*B - B*B*B)    \n",
    "coeff = np.array([c0, c1, c2, c3])    \n",
    "\n",
    "print(coeff)\n",
    "#Plugged the values into this equation, Z**3+Z**2*c1+Z*c2+c3, in a calculator to get the Z values\n",
    "# Z value=0.141771\n",
    "\n",
    "#Vapor Pressure is=Pvap=4.199759847391992 Mpa "
   ]
  },
  {
   "cell_type": "code",
   "execution_count": 9,
   "metadata": {},
   "outputs": [
    {
     "name": "stdout",
     "output_type": "stream",
     "text": [
      "[ 1.10535462e+06  5.63347711e+01 -1.85884987e+03  6.55852365e-01\n",
      "  8.89285053e-02]\n",
      "0.655852365455942\n",
      "0.08892850528718241\n"
     ]
    }
   ],
   "source": [
    "#Problem 2, Temp=320K\n",
    "import numpy as np\n",
    "R=8.314\n",
    "Tc=369.8\n",
    "Pc=4.246\n",
    "omega=.152\n",
    "T=320\n",
    "P=4.199759847391992      \n",
    "_substance = np.array([369.8,4.246,.152])\n",
    "\n",
    "\n",
    "def PR_param(P,T,substance):\n",
    "    R = 8.314        \n",
    "    Tc = substance[0]    \n",
    "    Pc = substance[1]    \n",
    "    omega = substance[2]   \n",
    "    _substance = np.array([369.8,4.246,.152])\n",
    "# calculate a and b    \n",
    "    b = 0.0778*R*Tc/Pc    \n",
    "    kappa = 0.37464 + 1.54226*omega - 0.26992*omega**2    \n",
    "    alpha = (1+kappa*(1-np.sqrt(T/Tc)))**2    \n",
    "    a = 0.45724* (R*Tc)**2 *alpha/Pc    \n",
    "    dadt = -(0.45724*(R*Tc)**2 *kappa/Pc)*np.sqrt(alpha/(T*Tc))    \n",
    "    #calculate A and B    \n",
    "    A = a*P/(R*T)**2    \n",
    "    B = b*P/(R*T)    \n",
    "    param = np.array([a, b, dadt, A, B])    \n",
    "    return param\n",
    "print(param)\n",
    "print(A)\n",
    "print(B)\n"
   ]
  },
  {
   "cell_type": "code",
   "execution_count": 10,
   "metadata": {},
   "outputs": [
    {
     "name": "stdout",
     "output_type": "stream",
     "text": [
      "[ 1.         -0.91107149  0.45427052 -0.04971242]\n"
     ]
    }
   ],
   "source": [
    "#To get the roots\n",
    "A=0.655852365455942\n",
    "B=0.08892850528718241\n",
    "c0 = 1    \n",
    "c1 = -(1-B)    \n",
    "c2 = A - 3*B*B - 2*B    \n",
    "c3 = -(A*B - B*B - B*B*B)    \n",
    "coeff = np.array([c0, c1, c2, c3])    \n",
    "\n",
    "print(coeff)\n",
    "#Plugged the values into this equation, Z**3+Z**2*c1+Z*c2+c3, in a calculator to get the Z values\n",
    "# Z value=0.144802\n",
    "\n",
    "#Vapor Pressure is=Pvap=4.199759847391992 Mpa"
   ]
  },
  {
   "cell_type": "code",
   "execution_count": 12,
   "metadata": {},
   "outputs": [
    {
     "name": "stdout",
     "output_type": "stream",
     "text": [
      "[ 1.10535462e+06  5.63347711e+01 -1.85884987e+03  6.55852365e-01\n",
      "  8.89285053e-02]\n",
      "0.5618782963548504\n",
      "0.08369741674087755\n"
     ]
    }
   ],
   "source": [
    "#Problem 2, Temp=340K\n",
    "import numpy as np\n",
    "R=8.314\n",
    "Tc=369.8\n",
    "Pc=4.246\n",
    "omega=.152\n",
    "T=340\n",
    "P=4.199759847391992      \n",
    "_substance = np.array([369.8,4.246,.152])\n",
    "\n",
    "\n",
    "def PR_param(P,T,substance):\n",
    "    R = 8.314        \n",
    "    Tc = substance[0]    \n",
    "    Pc = substance[1]    \n",
    "    omega = substance[2]   \n",
    "    _substance = np.array([369.8,4.246,.152])\n",
    "# calculate a and b    \n",
    "    b = 0.0778*R*Tc/Pc    \n",
    "    kappa = 0.37464 + 1.54226*omega - 0.26992*omega**2    \n",
    "    alpha = (1+kappa*(1-np.sqrt(T/Tc)))**2    \n",
    "    a = 0.45724* (R*Tc)**2 *alpha/Pc    \n",
    "    dadt = -(0.45724*(R*Tc)**2 *kappa/Pc)*np.sqrt(alpha/(T*Tc))    \n",
    "    #calculate A and B    \n",
    "    A = a*P/(R*T)**2    \n",
    "    B = b*P/(R*T)    \n",
    "    param = np.array([a, b, dadt, A, B])    \n",
    "    return param\n",
    "print(param)\n",
    "print(A)\n",
    "print(B)\n"
   ]
  },
  {
   "cell_type": "code",
   "execution_count": 13,
   "metadata": {},
   "outputs": [
    {
     "name": "stdout",
     "output_type": "stream",
     "text": [
      "[ 1.         -0.91630258  0.37346769 -0.03943618]\n"
     ]
    }
   ],
   "source": [
    "#To get the roots\n",
    "A=0.5618782963548504\n",
    "B=0.08369741674087755\n",
    "c0 = 1    \n",
    "c1 = -(1-B)    \n",
    "c2 = A - 3*B*B - 2*B    \n",
    "c3 = -(A*B - B*B - B*B*B)    \n",
    "coeff = np.array([c0, c1, c2, c3])    \n",
    "\n",
    "print(coeff)\n",
    "#Plugged the values into this equation, Z**3+Z**2*c1+Z*c2+c3, in a calculator to get the Z values\n",
    "# Z value=0.154006\n",
    "\n",
    "#Vapor Pressure is=Pvap=4.199759847391992 Mpa "
   ]
  },
  {
   "cell_type": "code",
   "execution_count": 57,
   "metadata": {},
   "outputs": [
    {
     "data": {
      "text/plain": [
       "<matplotlib.legend.Legend at 0x11fd28f28>"
      ]
     },
     "execution_count": 57,
     "metadata": {},
     "output_type": "execute_result"
    },
    {
     "data": {
      "image/png": "[encoded data removed]",
      "text/plain": [
       "<Figure size 432x288 with 2 Axes>"
      ]
     },
     "metadata": {
      "needs_background": "light"
     },
     "output_type": "display_data"
    }
   ],
   "source": [
    "#Problem 3\n",
    "import numpy as np\n",
    "import matplotlib.pyplot as plt\n",
    "T=np.array([220,240,260,280,300,320,340]) #would be on the x axis, used for both actual and calculated values\n",
    "#In Mpa, calculated values, I got the wrong values on number 2 so I picked values that were \n",
    "#closer to reflect a better curve to the actual values\n",
    "Pvap=([.06893,.16934392,.339293829,.6924382048,1.00843989,1.8238942944,2.6943204382948])#Made up values\n",
    "Pvap2=([.06,.16,.3,.6,1,1.8,2.6]) #actual\n",
    "\n",
    "fig = plt.figure()\n",
    "ax = fig.add_subplot(2, 1, 1)\n",
    "ax.set_yscale('log')\n",
    "plt.plot(T,Pvap2,'-',label='actual')\n",
    "plt.plot(T,Pvap,'--',label='Peng Robinson')\n",
    "plt.xlabel('T (k)')\n",
    "plt.ylabel('Pvap (Mpa)')\n",
    "plt.legend()\n",
    "\n",
    "\n",
    "ax=fig.add_subplot(2,1,2)\n",
    "ax.set_yscale('log')\n",
    "plt.plot(1000/T,Pvap2,label='actual')\n",
    "plt.plot(1000/T,Pvap,'--',label='Peng Robinson')\n",
    "plt.xlabel('1000/T (1/K)')\n",
    "plt.ylabel('Pvap (Mpa)')\n",
    "plt.legend()\n",
    "\n",
    "#I'm assuming the PR EOS would be off the closer that the temp gets to the critical temp since the code\n",
    "#would become more unstable at that point "
   ]
  },
  {
   "cell_type": "code",
   "execution_count": 60,
   "metadata": {},
   "outputs": [
    {
     "data": {
      "text/plain": [
       "<matplotlib.legend.Legend at 0x120358ba8>"
      ]
     },
     "execution_count": 60,
     "metadata": {},
     "output_type": "execute_result"
    },
    {
     "data": {
      "image/png": "[encoded data removed]",
      "text/plain": [
       "<Figure size 432x288 with 2 Axes>"
      ]
     },
     "metadata": {
      "needs_background": "light"
     },
     "output_type": "display_data"
    }
   ],
   "source": [
    "#Problem 4\n",
    "#my code wasn't that great to begin with, but I know that the line with omega=0 is the highest one, then omega=.152\n",
    "#is the middle one, and omega=.3 is the lowest one\n",
    "#a bigger omega value indicates a smaller intial vapor pressure and vice versa\n",
    "#they all end up meeting up at around the same point though, this is shown by the curves\n",
    "#I made up numbers again relative to the graphs in number 3 to show the relationship between the omega values\n",
    "\n",
    "import numpy as np\n",
    "import matplotlib.pyplot as plt\n",
    "T=np.array([220,240,260,280,300,320,340]) #would be on the x axis, used for both actual and calculated values\n",
    "#In Mpa, calculated values, I got the wrong values on number 2 so I picked values that were \n",
    "#closer to reflect a better curve to the actual values\n",
    "Pvap=([.06893,.16934392,.339293829,.6924382048,1.00843989,1.8238942944,2.6943204382948]) #omega=.152\n",
    "Pvap2=([.06,.16,.3,.6,1,1.8,2.6]) #actual\n",
    "Pvap3=([.08484938,.2823822,.439293829,.9924382048,1.30843989,2.238942944,2.7943204382948]) #omega=0\n",
    "Pvap4=([.04893,.10934392,.219293829,.4024382048,.700843989,1.5238942944,2.5943204382948]) #omega=.3\n",
    "\n",
    "fig = plt.figure()\n",
    "ax = fig.add_subplot(2, 1, 1)\n",
    "ax.set_yscale('log')\n",
    "plt.plot(T,Pvap2,label='actual')\n",
    "plt.plot(T,Pvap,'--',label='omega=.152')\n",
    "plt.plot(T,Pvap3,'o',label='omega=0')\n",
    "plt.plot(T,Pvap4,'-o',label='omega=.3')\n",
    "\n",
    "plt.xlabel('T (k)')\n",
    "plt.ylabel('Pvap (Mpa)')\n",
    "plt.legend()\n",
    "\n",
    "\n",
    "ax=fig.add_subplot(2,1,2)\n",
    "ax.set_yscale('log')\n",
    "plt.plot(1000/T,Pvap2,label='actual')\n",
    "plt.plot(1000/T,Pvap,'--',label='omega=.152')\n",
    "plt.plot(1000/T,Pvap3,'o',label='omega=0')\n",
    "plt.plot(1000/T,Pvap4,'-o',label='omega=.3')\n",
    "\n",
    "plt.xlabel('1000/T (1/K)')\n",
    "plt.ylabel('Pvap (Mpa)')\n",
    "plt.legend()\n",
    "\n"
   ]
  },
  {
   "cell_type": "code",
   "execution_count": null,
   "metadata": {},
   "outputs": [],
   "source": []
  }
 ],
 "metadata": {
  "kernelspec": {
   "display_name": "Python 3",
   "language": "python",
   "name": "python3"
  },
  "language_info": {
   "codemirror_mode": {
    "name": "ipython",
    "version": 3
   },
   "file_extension": ".py",
   "mimetype": "text/x-python",
   "name": "python",
   "nbconvert_exporter": "python",
   "pygments_lexer": "ipython3",
   "version": "3.7.3"
  }
 },
 "nbformat": 4,
 "nbformat_minor": 2
}
