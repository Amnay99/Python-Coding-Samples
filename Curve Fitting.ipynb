{
 "cells": [
  {
   "cell_type": "code",
   "execution_count": 1,
   "metadata": {},
   "outputs": [],
   "source": [
    "import numpy as np\n",
    "import pandas as pd\n",
    "data_in=pd.read_excel('170752212800.xlsx')\n",
    "MD = data_in.iloc[:,2].values\n",
    "#print(MD)\n",
    "\n",
    "TVDSS = data_in.iloc[:,8].values\n",
    "#print(TVDSS)"
   ]
  },
  {
   "cell_type": "code",
   "execution_count": 2,
   "metadata": {},
   "outputs": [],
   "source": [
    "#1(a).\n",
    "def LinearRegression(MD,TVDSS):\n",
    "    \n",
    "    \n",
    "    \n",
    "    #length of vector x\n",
    "    n=len(MD)\n",
    "    \n",
    "    # compute the sums needed for calculation of a0,a1\n",
    "    sumMDTVDSS = np.dot(MD,TVDSS)\n",
    "    sumMD = np.sum(MD)\n",
    "    sumTVDSS = np.sum(TVDSS)\n",
    "    sumMD2 = np.dot(MD,MD)\n",
    "    sumTVDSS2 = np.dot(TVDSS,TVDSS)\n",
    "    \n",
    "    \n",
    "    #Alternative\n",
    "    #sumx = 0\n",
    "    #for i in range(n):\n",
    "    #           sumx = sumx + x[i]\n",
    "    \n",
    "    # compute a0, a1\n",
    "    a1= (n*sumMDTVDSS-sumMD*sumTVDSS)/(n*sumMD2-sumMD**2)\n",
    "    a0= (sumMD*sumMDTVDSS - sumMD2*sumTVDSS)/(sumMD**2-n*sumMD2)\n",
    "    \n",
    "    R2=(n*sumMDTVDSS-sumMD*sumTVDSS)**2/((n*sumMD2-sumMD**2)*(n*sumTVDSS2-sumTVDSS**2))\n",
    "    return(a0,a1,R2)"
   ]
  },
  {
   "cell_type": "code",
   "execution_count": 4,
   "metadata": {},
   "outputs": [
    {
     "name": "stdout",
     "output_type": "stream",
     "text": [
      "19.992193234476108\n",
      "-0.9999098154136571\n",
      "Linear model R squared: 0.9999999986088417\n"
     ]
    },
    {
     "data": {
      "image/png": "[encoded data removed]",
      "text/plain": [
       "<Figure size 432x288 with 1 Axes>"
      ]
     },
     "metadata": {
      "needs_background": "light"
     },
     "output_type": "display_data"
    }
   ],
   "source": [
    "# plot the comparison\n",
    "import matplotlib.pyplot as plt\n",
    "\n",
    "\n",
    "a0,a1,R2 = LinearRegression(MD,TVDSS)\n",
    "\n",
    "print(a0)\n",
    "print(a1)\n",
    "# plot how model fits data\n",
    "TVDSS_model = np.zeros(MD.shape)\n",
    "TVDSS_model = a0+a1*MD\n",
    "plt.plot(MD,TVDSS_model,'r-')\n",
    "\n",
    "print('Linear model R squared:',R2)"
   ]
  },
  {
   "cell_type": "code",
   "execution_count": 8,
   "metadata": {},
   "outputs": [
    {
     "name": "stdout",
     "output_type": "stream",
     "text": [
      "20.125460743160666 -1.0000259308939083 1.6666906004413663e-08\n"
     ]
    }
   ],
   "source": [
    "#1(b).\n",
    "#def LinearRegression(MD,TVDSS):\n",
    "    \n",
    "    \n",
    "\n",
    "#length of vector x\n",
    "n=len(MD)\n",
    "sumTVDSS=0\n",
    "sumMDTVDSS=0\n",
    "sumMD=0\n",
    "sumTVDSS2=0\n",
    "sumMD2=0\n",
    "sumMD3=0\n",
    "sumMD4=0\n",
    "sumMD2TVDSS=0\n",
    "for i in range(n):\n",
    "    \n",
    "    # compute the sums needed for calculation of a0,a1\n",
    "    sumMD = sumMD + MD[i]\n",
    "    sumMDTVDSS = sumMDTVDSS + MD[i]*TVDSS[i]\n",
    "    sumTVDSS = sumTVDSS + TVDSS[i]\n",
    "    sumMD2 = sumMD2 + MD[i]**2\n",
    "    sumTVDSS2 = sumTVDSS2 + TVDSS[i]**2\n",
    "    sumMD3 = sumMD3 + MD[i]**3\n",
    "    sumMD4 = sumMD4 + MD[i]**4\n",
    "    sumMD2TVDSS = sumMD2TVDSS + MD[i]**2*TVDSS[i]\n",
    "    \n",
    "\n",
    "    \n",
    "A = np.array([[n,sumMD,sumMD2],[sumMD,sumMD2,sumMD3],[sumMD2,sumMD3,sumMD4]])\n",
    "b = np.array([sumTVDSS,sumMDTVDSS,sumMD2TVDSS])\n",
    "b0,b1,b2 = np.linalg.solve(A,b)\n",
    "print(b0,b1,b2)  \n",
    "    \n",
    "r2=(n*sumMDTVDSS-sumMD*sumTVDSS)**2/((n*sumMD2-sumMD**2)*(n*sumTVDSS2-sumTVDSS**2))\n",
    "\n"
   ]
  },
  {
   "cell_type": "code",
   "execution_count": 11,
   "metadata": {},
   "outputs": [
    {
     "name": "stdout",
     "output_type": "stream",
     "text": [
      "20.125460743160666\n",
      "-1.0000259308939083\n",
      "1.6666906004413663e-08\n",
      "0.9999999986088417\n",
      "Linear model r squared: 0.9999999986088417\n"
     ]
    },
    {
     "data": {
      "image/png": "[encoded data removed]",
      "text/plain": [
       "<Figure size 432x288 with 1 Axes>"
      ]
     },
     "metadata": {
      "needs_background": "light"
     },
     "output_type": "display_data"
    }
   ],
   "source": [
    "import matplotlib.pyplot as plt\n",
    "\n",
    "\n",
    "print(b0)\n",
    "print(b1)\n",
    "print(b2)\n",
    "print(r2)\n",
    "# plot how model fits data\n",
    "TVDSS_pmodel = b0+b1*MD+b2*MD**2\n",
    "plt.plot(MD,TVDSS_pmodel,'r-')\n",
    "\n",
    "print('Linear model r squared:',r2)"
   ]
  },
  {
   "cell_type": "code",
   "execution_count": 92,
   "metadata": {},
   "outputs": [],
   "source": [
    "#1(c)\n",
    "\n",
    "def LinearRegression(MD,TVDSS):\n",
    "    \n",
    "    \n",
    "    \n",
    "    #length of vector x\n",
    "    n=len(MD)\n",
    "    \n",
    "    # compute the sums needed for calculation of a0,a1\n",
    "    sumMDTVDSS = np.dot(MD,TVDSS)\n",
    "    sumMD = np.sum(MD)\n",
    "    sumTVDSS = np.sum(TVDSS)\n",
    "    sumMD2 = np.dot(MD,MD)\n",
    "    sumTVDSS2 = np.dot(TVDSS,TVDSS)\n",
    "    \n",
    "    \n",
    "    #Alternative\n",
    "    #sumx = 0\n",
    "    #for i in range(n):\n",
    "    #           sumx = sumx + x[i]\n",
    "    \n",
    "    # compute a0, a1\n",
    "    a1= (n*sumMDTVDSS-sumMD*sumTVDSS)/(n*sumMD2-sumMD**2)\n",
    "    a0= (sumMD*sumMDTVDSS - sumMD2*sumTVDSS)/(sumMD**2-n*sumMD2)\n",
    "    \n",
    "    R2=(n*sumMDTVDSS-sumMD*sumTVDSS)**2/((n*sumMD2-sumMD**2)*(n*sumTVDSS2-sumTVDSS**2))\n",
    "    return(a0,a1,R2)\n",
    "\n",
    "\n",
    "\n"
   ]
  },
  {
   "cell_type": "code",
   "execution_count": 1,
   "metadata": {},
   "outputs": [
    {
     "ename": "SyntaxError",
     "evalue": "can't assign to operator (<ipython-input-1-6cc512f41c65>, line 4)",
     "output_type": "error",
     "traceback": [
      "\u001b[0;36m  File \u001b[0;32m\"<ipython-input-1-6cc512f41c65>\"\u001b[0;36m, line \u001b[0;32m4\u001b[0m\n\u001b[0;31m    TVDSS_power_model-20 = a2*(MD**b2)\u001b[0m\n\u001b[0m                                      ^\u001b[0m\n\u001b[0;31mSyntaxError\u001b[0m\u001b[0;31m:\u001b[0m can't assign to operator\n"
     ]
    }
   ],
   "source": [
    "a0,a1,R2=LinearRegression(np.log(MD),np.log(TVDSS))\n",
    "a2=np.exp(a0)\n",
    "b2=a1\n",
    "TVDSS_power_model-20 = a2*(MD**b2)\n",
    "plt.plot(MD,TVDSS_power_model)\n",
    "\n"
   ]
  },
  {
   "cell_type": "code",
   "execution_count": null,
   "metadata": {},
   "outputs": [],
   "source": [
    "#Problem 2\n",
    "#1a fits the curve"
   ]
  },
  {
   "cell_type": "code",
   "execution_count": 27,
   "metadata": {},
   "outputs": [
    {
     "name": "stdout",
     "output_type": "stream",
     "text": [
      "[1.         1.25       1.61157178 2.06430433 2.59411222 3.19068581\n",
      " 3.84615092 4.55429629 5.31009674 6.10940289 6.94873039 7.82511187]\n"
     ]
    }
   ],
   "source": [
    "#Problem 3\n",
    "#3(a).\n",
    "\n",
    "import numpy as np\n",
    "\n",
    "def f(x,y):\n",
    "    fy=2*np.log(x)+1\n",
    "    return(fy)\n",
    "\n",
    "\n",
    "h=0.25\n",
    "x0=1\n",
    "y0=1\n",
    "xn=4\n",
    "\n",
    "def EulerMethod(h,x0,y0,xn):\n",
    "    n=round((xn-x0)/h)\n",
    "    x = np.arange(x0,xn,h)\n",
    "    y = np.zeros(x.shape)\n",
    "    y[0]=y0\n",
    "\n",
    "    for i in range(0,n-1):\n",
    "        y[i+1] = y[i] + f(x[i],y[i])*h\n",
    "    return(x,y)\n",
    "\n",
    "\n",
    "x0=1\n",
    "y0=1\n",
    "xn=4\n",
    "x,y=EulerMethod(.25,x0,y0,xn)   \n",
    "\n",
    "\n",
    "print(y)\n",
    "\n"
   ]
  },
  {
   "cell_type": "code",
   "execution_count": 28,
   "metadata": {},
   "outputs": [
    {
     "name": "stdout",
     "output_type": "stream",
     "text": [
      "[1.         1.30578589 1.71293805 2.20420828 2.76739902 3.39341837\n",
      " 4.07522361 4.80719652 5.58474982 6.40406664 7.26192113 8.15555083]\n"
     ]
    }
   ],
   "source": [
    "#3(b).\n",
    "import numpy as np\n",
    "\n",
    "def f(x,y):\n",
    "    fy=2*np.log(x)+1\n",
    "    return(fy)\n",
    "\n",
    "\n",
    "h=0.25\n",
    "x0=1\n",
    "y0=1\n",
    "xn=4\n",
    "\n",
    "def HeunMethod(h,x0,y0,xn):\n",
    "    n=round((xn-x0)/h)\n",
    "    x = np.arange(x0,xn,h)\n",
    "    y = np.zeros(x.shape)\n",
    "    y[0]=y0\n",
    "\n",
    "    for i in range(0,n-1):\n",
    "        # value predicted by Euler's method\n",
    "        yp = y[i] + f(x[i],y[i])*h\n",
    "        #average slope from two points\n",
    "        \n",
    "        slope = .5*(f(x[i],y[i]) + f(x[i+1],yp))\n",
    "        y[i+1] = y[i] + slope*h            \n",
    "    return(x,y)\n",
    "\n",
    "   \n",
    "x1,y1=HeunMethod(.25,x0,y0,xn)   \n",
    "\n",
    "print(y1)\n",
    "\n",
    "\n",
    "\n"
   ]
  },
  {
   "cell_type": "code",
   "execution_count": 31,
   "metadata": {},
   "outputs": [
    {
     "name": "stdout",
     "output_type": "stream",
     "text": [
      "[1.         1.30785631 1.71639161 2.20865095 2.77258409 3.39918114\n",
      " 4.0814487  4.81379996 5.59166862 6.41125232 7.2693356  8.16316359]\n"
     ]
    }
   ],
   "source": [
    "h=0.25\n",
    "x0=1\n",
    "y0=1\n",
    "xn=4\n",
    "\n",
    "def RungeKuttaMethod(h,x0,y0,xn):\n",
    "    n=round((xn-x0)/h)\n",
    "    x = np.arange(x0,xn,h)\n",
    "    y = np.zeros(x.shape)\n",
    "    y[0]=y0\n",
    "\n",
    "    for i in range(0,n-1):\n",
    "        # value predicted by Euler's method\n",
    "        k1 = f(x[i],y[i])\n",
    "        k2 = f(x[i] + 1/2*h,y[i]+1/2*k1*h)\n",
    "        k3 = f(x[i] + 1/2*h,y[i]+1/2*k2*h)\n",
    "        k4 = f(x[i]+h,y[i]+k3*h)\n",
    "        #average slope from two points\n",
    "        \n",
    "        slope = (k1 + 2*k2 +2*k3 + k4)/6\n",
    "        y[i+1] = y[i] + slope*h            \n",
    "    return(x,y)\n",
    "\n",
    "\n",
    "x2,y2=RungeKuttaMethod(.25,x0,y0,xn)   \n",
    "\n",
    "print(y2)\n",
    "\n",
    "\n",
    "\n"
   ]
  },
  {
   "cell_type": "code",
   "execution_count": 34,
   "metadata": {},
   "outputs": [
    {
     "data": {
      "text/plain": [
       "<matplotlib.legend.Legend at 0x12192d908>"
      ]
     },
     "execution_count": 34,
     "metadata": {},
     "output_type": "execute_result"
    },
    {
     "data": {
      "image/png": "[encoded data removed]",
      "text/plain": [
       "<Figure size 432x288 with 1 Axes>"
      ]
     },
     "metadata": {
      "needs_background": "light"
     },
     "output_type": "display_data"
    }
   ],
   "source": [
    "#Plots for 3\n",
    "import numpy as np\n",
    "import matplotlib.pyplot as plt\n",
    "x,y=EulerMethod(.25,x0,y0,xn) \n",
    "x1,y1=HeunMethod(.25,x0,y0,xn) \n",
    "x2,y2=RungeKuttaMethod(.25,x0,y0,xn)\n",
    "\n",
    "plt.plot(x,y,label='Euler,h=.25')\n",
    "plt.plot(x1,y1,label='Heun,h=.25')\n",
    "plt.plot(x2,y2,'ro',label='RungeKutta,h=.25')\n",
    "plt.legend()"
   ]
  },
  {
   "cell_type": "code",
   "execution_count": null,
   "metadata": {},
   "outputs": [],
   "source": []
  }
 ],
 "metadata": {
  "kernelspec": {
   "display_name": "Python 3",
   "language": "python",
   "name": "python3"
  },
  "language_info": {
   "codemirror_mode": {
    "name": "ipython",
    "version": 3
   },
   "file_extension": ".py",
   "mimetype": "text/x-python",
   "name": "python",
   "nbconvert_exporter": "python",
   "pygments_lexer": "ipython3",
   "version": "3.7.3"
  }
 },
 "nbformat": 4,
 "nbformat_minor": 2
}
